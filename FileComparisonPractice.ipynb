{
 "cells": [
  {
   "cell_type": "code",
   "execution_count": 14,
   "id": "e51dec37-bc54-466f-8f5d-09118f7956ee",
   "metadata": {},
   "outputs": [],
   "source": [
    "import pandas as pd\n",
    "from pathlib import Path\n",
    "pd.options.display.max_columns=None "
   ]
  },
  {
   "cell_type": "code",
   "execution_count": 15,
   "id": "b76a5429-0112-49dd-9169-347f54a600db",
   "metadata": {},
   "outputs": [
    {
     "data": {
      "text/plain": [
       "True"
      ]
     },
     "execution_count": 15,
     "metadata": {},
     "output_type": "execute_result"
    }
   ],
   "source": [
    "f = Path(r'C:\\Users\\Benit\\CodingPractice')\n",
    "f.exists()"
   ]
  },
  {
   "cell_type": "code",
   "execution_count": 19,
   "id": "86e99d46-910b-47d0-b561-36f481de1496",
   "metadata": {},
   "outputs": [
    {
     "data": {
      "text/html": [
       "<div>\n",
       "<style scoped>\n",
       "    .dataframe tbody tr th:only-of-type {\n",
       "        vertical-align: middle;\n",
       "    }\n",
       "\n",
       "    .dataframe tbody tr th {\n",
       "        vertical-align: top;\n",
       "    }\n",
       "\n",
       "    .dataframe thead th {\n",
       "        text-align: right;\n",
       "    }\n",
       "</style>\n",
       "<table border=\"1\" class=\"dataframe\">\n",
       "  <thead>\n",
       "    <tr style=\"text-align: right;\">\n",
       "      <th></th>\n",
       "      <th>Country</th>\n",
       "    </tr>\n",
       "  </thead>\n",
       "  <tbody>\n",
       "    <tr>\n",
       "      <th>0</th>\n",
       "      <td>String</td>\n",
       "    </tr>\n",
       "    <tr>\n",
       "      <th>1</th>\n",
       "      <td>Afghanistan</td>\n",
       "    </tr>\n",
       "    <tr>\n",
       "      <th>2</th>\n",
       "      <td>Akrotiri</td>\n",
       "    </tr>\n",
       "    <tr>\n",
       "      <th>3</th>\n",
       "      <td>Albania</td>\n",
       "    </tr>\n",
       "    <tr>\n",
       "      <th>4</th>\n",
       "      <td>Algeria</td>\n",
       "    </tr>\n",
       "    <tr>\n",
       "      <th>5</th>\n",
       "      <td>American Samoa</td>\n",
       "    </tr>\n",
       "  </tbody>\n",
       "</table>\n",
       "</div>"
      ],
      "text/plain": [
       "          Country\n",
       "0          String\n",
       "1     Afghanistan\n",
       "2        Akrotiri\n",
       "3         Albania\n",
       "4         Algeria\n",
       "5  American Samoa"
      ]
     },
     "execution_count": 19,
     "metadata": {},
     "output_type": "execute_result"
    }
   ],
   "source": [
    "# reads in files to establish data sets\n",
    "df1 = pd.read_csv(Path(f, 'factbook.csv'),\n",
    "                 sep=';', \n",
    "                 usecols=['Country'], \n",
    "                 dtype=str)\n",
    "\n",
    "df2 = pd.read_csv(Path(f, 'factbook_-_Bad.csv'),\n",
    "                 sep=';',\n",
    "                 usecols=['Country'],   \n",
    "                 dtype=str)\n",
    "\n",
    "df2.head(6)"
   ]
  },
  {
   "cell_type": "code",
   "execution_count": 21,
   "id": "7f636f03-d762-4d9a-912d-2c2fe685c9b3",
   "metadata": {},
   "outputs": [
    {
     "data": {
      "text/html": [
       "<div>\n",
       "<style scoped>\n",
       "    .dataframe tbody tr th:only-of-type {\n",
       "        vertical-align: middle;\n",
       "    }\n",
       "\n",
       "    .dataframe tbody tr th {\n",
       "        vertical-align: top;\n",
       "    }\n",
       "\n",
       "    .dataframe thead th {\n",
       "        text-align: right;\n",
       "    }\n",
       "</style>\n",
       "<table border=\"1\" class=\"dataframe\">\n",
       "  <thead>\n",
       "    <tr style=\"text-align: right;\">\n",
       "      <th></th>\n",
       "      <th>Country</th>\n",
       "      <th>_merge</th>\n",
       "    </tr>\n",
       "  </thead>\n",
       "  <tbody>\n",
       "    <tr>\n",
       "      <th>0</th>\n",
       "      <td>String</td>\n",
       "      <td>both</td>\n",
       "    </tr>\n",
       "    <tr>\n",
       "      <th>1</th>\n",
       "      <td>Afghanistan</td>\n",
       "      <td>both</td>\n",
       "    </tr>\n",
       "    <tr>\n",
       "      <th>2</th>\n",
       "      <td>Akrotiri</td>\n",
       "      <td>both</td>\n",
       "    </tr>\n",
       "    <tr>\n",
       "      <th>3</th>\n",
       "      <td>Albania</td>\n",
       "      <td>both</td>\n",
       "    </tr>\n",
       "    <tr>\n",
       "      <th>4</th>\n",
       "      <td>Algeria</td>\n",
       "      <td>both</td>\n",
       "    </tr>\n",
       "    <tr>\n",
       "      <th>...</th>\n",
       "      <td>...</td>\n",
       "      <td>...</td>\n",
       "    </tr>\n",
       "    <tr>\n",
       "      <th>262</th>\n",
       "      <td>Zambia</td>\n",
       "      <td>left_only</td>\n",
       "    </tr>\n",
       "    <tr>\n",
       "      <th>263</th>\n",
       "      <td>Zimbabwe</td>\n",
       "      <td>both</td>\n",
       "    </tr>\n",
       "    <tr>\n",
       "      <th>264</th>\n",
       "      <td>Btswana</td>\n",
       "      <td>right_only</td>\n",
       "    </tr>\n",
       "    <tr>\n",
       "      <th>265</th>\n",
       "      <td>Not Zealand</td>\n",
       "      <td>right_only</td>\n",
       "    </tr>\n",
       "    <tr>\n",
       "      <th>266</th>\n",
       "      <td>Zamia</td>\n",
       "      <td>right_only</td>\n",
       "    </tr>\n",
       "  </tbody>\n",
       "</table>\n",
       "<p>267 rows × 2 columns</p>\n",
       "</div>"
      ],
      "text/plain": [
       "         Country      _merge\n",
       "0         String        both\n",
       "1    Afghanistan        both\n",
       "2       Akrotiri        both\n",
       "3        Albania        both\n",
       "4        Algeria        both\n",
       "..           ...         ...\n",
       "262       Zambia   left_only\n",
       "263     Zimbabwe        both\n",
       "264      Btswana  right_only\n",
       "265  Not Zealand  right_only\n",
       "266        Zamia  right_only\n",
       "\n",
       "[267 rows x 2 columns]"
      ]
     },
     "execution_count": 21,
     "metadata": {},
     "output_type": "execute_result"
    }
   ],
   "source": [
    "#merges file 1 and file 2 together\n",
    "df3 = pd.merge(     \n",
    "    df1,\n",
    "    df2,\n",
    "    how='outer',\n",
    "    on = 'Country', #Compares files by country\n",
    "    indicator=True)\n",
    "\n",
    "df3"
   ]
  },
  {
   "cell_type": "code",
   "execution_count": 22,
   "id": "7ff3e1a8-53a9-4603-a2a1-53c2b88325c6",
   "metadata": {},
   "outputs": [
    {
     "data": {
      "text/html": [
       "<div>\n",
       "<style scoped>\n",
       "    .dataframe tbody tr th:only-of-type {\n",
       "        vertical-align: middle;\n",
       "    }\n",
       "\n",
       "    .dataframe tbody tr th {\n",
       "        vertical-align: top;\n",
       "    }\n",
       "\n",
       "    .dataframe thead th {\n",
       "        text-align: right;\n",
       "    }\n",
       "</style>\n",
       "<table border=\"1\" class=\"dataframe\">\n",
       "  <thead>\n",
       "    <tr style=\"text-align: right;\">\n",
       "      <th></th>\n",
       "      <th>Country</th>\n",
       "      <th>_merge</th>\n",
       "    </tr>\n",
       "  </thead>\n",
       "  <tbody>\n",
       "    <tr>\n",
       "      <th>32</th>\n",
       "      <td>Botswana</td>\n",
       "      <td>left_only</td>\n",
       "    </tr>\n",
       "    <tr>\n",
       "      <th>176</th>\n",
       "      <td>New Zealand</td>\n",
       "      <td>left_only</td>\n",
       "    </tr>\n",
       "    <tr>\n",
       "      <th>262</th>\n",
       "      <td>Zambia</td>\n",
       "      <td>left_only</td>\n",
       "    </tr>\n",
       "    <tr>\n",
       "      <th>264</th>\n",
       "      <td>Btswana</td>\n",
       "      <td>right_only</td>\n",
       "    </tr>\n",
       "    <tr>\n",
       "      <th>265</th>\n",
       "      <td>Not Zealand</td>\n",
       "      <td>right_only</td>\n",
       "    </tr>\n",
       "    <tr>\n",
       "      <th>266</th>\n",
       "      <td>Zamia</td>\n",
       "      <td>right_only</td>\n",
       "    </tr>\n",
       "  </tbody>\n",
       "</table>\n",
       "</div>"
      ],
      "text/plain": [
       "         Country      _merge\n",
       "32      Botswana   left_only\n",
       "176  New Zealand   left_only\n",
       "262       Zambia   left_only\n",
       "264      Btswana  right_only\n",
       "265  Not Zealand  right_only\n",
       "266        Zamia  right_only"
      ]
     },
     "execution_count": 22,
     "metadata": {},
     "output_type": "execute_result"
    }
   ],
   "source": [
    "#Returns only differences between df1 and df2\n",
    "df4=df3[df3['_merge'].isin(['left_only', 'right_only'])]\n",
    "df4"
   ]
  },
  {
   "cell_type": "code",
   "execution_count": null,
   "id": "07084710-5fce-4beb-92f3-638c4c991fe1",
   "metadata": {},
   "outputs": [],
   "source": []
  },
  {
   "cell_type": "code",
   "execution_count": null,
   "id": "ae773a86-57fe-45f3-b147-3dd46352c5d3",
   "metadata": {},
   "outputs": [],
   "source": []
  },
  {
   "cell_type": "code",
   "execution_count": null,
   "id": "7d48813a-f9ab-46fe-a2ad-e353e84592a2",
   "metadata": {},
   "outputs": [],
   "source": []
  },
  {
   "cell_type": "code",
   "execution_count": null,
   "id": "7e3e743e-8975-43da-8ede-8ba4f7f1416d",
   "metadata": {},
   "outputs": [],
   "source": []
  },
  {
   "cell_type": "code",
   "execution_count": 6,
   "id": "cb39d4f0-a0cc-45a2-8c58-fe7c34b5dd98",
   "metadata": {},
   "outputs": [
    {
     "data": {
      "text/plain": [
       "['Area(sq km)',\n",
       " 'Birth rate(births/1000 population)',\n",
       " 'Country',\n",
       " 'Current account balance',\n",
       " 'Death rate(deaths/1000 population)',\n",
       " 'Debt - external',\n",
       " 'Electricity - consumption(kWh)',\n",
       " 'Electricity - production(kWh)',\n",
       " 'Exports',\n",
       " 'GDP',\n",
       " 'GDP - per capita',\n",
       " 'GDP - real growth rate(%)',\n",
       " 'HIV/AIDS - adult prevalence rate(%)',\n",
       " 'HIV/AIDS - deaths',\n",
       " 'HIV/AIDS - people living with HIV/AIDS',\n",
       " 'Highways(km)',\n",
       " 'Imports',\n",
       " 'Industrial production growth rate(%)',\n",
       " 'Infant mortality rate(deaths/1000 live births)',\n",
       " 'Inflation rate (consumer prices)(%)',\n",
       " 'Internet hosts',\n",
       " 'Internet users',\n",
       " 'Investment (gross fixed)(% of GDP)',\n",
       " 'Labor force',\n",
       " 'Life expectancy at birth(years)',\n",
       " 'Military expenditures - dollar figure',\n",
       " 'Military expenditures - percent of GDP(%)',\n",
       " 'Natural gas - consumption(cu m)',\n",
       " 'Natural gas - exports(cu m)',\n",
       " 'Natural gas - imports(cu m)',\n",
       " 'Natural gas - production(cu m)',\n",
       " 'Natural gas - proved reserves(cu m)',\n",
       " 'Oil - consumption(bbl/day)',\n",
       " 'Oil - exports(bbl/day)',\n",
       " 'Oil - imports(bbl/day)',\n",
       " 'Oil - production(bbl/day)',\n",
       " 'Oil - proved reserves(bbl)',\n",
       " 'Population',\n",
       " 'Public debt(% of GDP)',\n",
       " 'Railways(km)',\n",
       " 'Reserves of foreign exchange & gold',\n",
       " 'Telephones - main lines in use',\n",
       " 'Telephones - mobile cellular',\n",
       " 'Total fertility rate(children born/woman)',\n",
       " 'Unemployment rate(%)']"
      ]
     },
     "execution_count": 6,
     "metadata": {},
     "output_type": "execute_result"
    }
   ],
   "source": [
    "cols = df1.columns.tolist()\n",
    "sorted(cols)"
   ]
  },
  {
   "cell_type": "code",
   "execution_count": null,
   "id": "49ea89b1-0a5e-4132-901a-e7e6ec94e6d4",
   "metadata": {},
   "outputs": [],
   "source": []
  },
  {
   "cell_type": "code",
   "execution_count": null,
   "id": "0b7e9162-aa5f-4e1c-ab0b-ae5e01b8e4fe",
   "metadata": {},
   "outputs": [],
   "source": []
  }
 ],
 "metadata": {
  "kernelspec": {
   "display_name": "Python 3",
   "language": "python",
   "name": "python3"
  },
  "language_info": {
   "codemirror_mode": {
    "name": "ipython",
    "version": 3
   },
   "file_extension": ".py",
   "mimetype": "text/x-python",
   "name": "python",
   "nbconvert_exporter": "python",
   "pygments_lexer": "ipython3",
   "version": "3.8.3"
  }
 },
 "nbformat": 4,
 "nbformat_minor": 5
}
